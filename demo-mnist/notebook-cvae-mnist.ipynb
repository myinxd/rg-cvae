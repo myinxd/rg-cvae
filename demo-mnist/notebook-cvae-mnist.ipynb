{
 "cells": [
  {
   "cell_type": "markdown",
   "metadata": {},
   "source": [
    "## Train a cvae for the handwritten digits simulation"
   ]
  },
  {
   "cell_type": "code",
   "execution_count": 1,
   "metadata": {
    "collapsed": true
   },
   "outputs": [],
   "source": [
    "# Copyright (C) 2018 Zhixian MA <zx@mazhixian.me>"
   ]
  },
  {
   "cell_type": "code",
   "execution_count": 2,
   "metadata": {
    "collapsed": true
   },
   "outputs": [],
   "source": [
    "import matplotlib\n",
    "matplotlib.use('Agg')\n",
    "%matplotlib inline\n",
    "import matplotlib.pyplot as plt"
   ]
  },
  {
   "cell_type": "code",
   "execution_count": 3,
   "metadata": {},
   "outputs": [
    {
     "name": "stderr",
     "output_type": "stream",
     "text": [
      "/usr/lib/python3/dist-packages/h5py/__init__.py:34: FutureWarning: Conversion of the second argument of issubdtype from `float` to `np.floating` is deprecated. In future, it will be treated as `np.float64 == np.dtype(float).type`.\n",
      "  from ._conv import register_converters as _register_converters\n"
     ]
    }
   ],
   "source": [
    "import tensorflow as tf"
   ]
  },
  {
   "cell_type": "code",
   "execution_count": 4,
   "metadata": {
    "collapsed": true
   },
   "outputs": [],
   "source": [
    "from cvae.cvae import cvae\n",
    "from cvae.utils import utils"
   ]
  },
  {
   "cell_type": "code",
   "execution_count": 5,
   "metadata": {
    "collapsed": true
   },
   "outputs": [],
   "source": [
    "from cvae.configs import config_mnist\n",
    "from cvae.configs import config_train"
   ]
  },
  {
   "cell_type": "markdown",
   "metadata": {},
   "source": [
    "### Load mnist data"
   ]
  },
  {
   "cell_type": "code",
   "execution_count": 6,
   "metadata": {},
   "outputs": [
    {
     "name": "stdout",
     "output_type": "stream",
     "text": [
      "Extracting MNIST_data/train-images-idx3-ubyte.gz\n",
      "Extracting MNIST_data/train-labels-idx1-ubyte.gz\n",
      "Extracting MNIST_data/t10k-images-idx3-ubyte.gz\n",
      "Extracting MNIST_data/t10k-labels-idx1-ubyte.gz\n"
     ]
    }
   ],
   "source": [
    "# Step1 load MNITST data\n",
    "from tensorflow.examples.tutorials.mnist import input_data\n",
    "mnist = input_data.read_data_sets(\"MNIST_data\", one_hot=True, validation_size=5000)"
   ]
  },
  {
   "cell_type": "code",
   "execution_count": 7,
   "metadata": {
    "collapsed": true
   },
   "outputs": [],
   "source": [
    "cf = config_mnist\n",
    "tr_cf = config_train"
   ]
  },
  {
   "cell_type": "markdown",
   "metadata": {},
   "source": [
    "### Build the net and train"
   ]
  },
  {
   "cell_type": "code",
   "execution_count": 8,
   "metadata": {},
   "outputs": [
    {
     "name": "stdout",
     "output_type": "stream",
     "text": [
      "Layer ID    Layer type    Layer shape\n",
      "0 Input layer [None, 794]\n",
      "1 FC layer 0 [None, 512]\n",
      "2 BN layer 0 [None, 512]\n",
      "3 FC layer 1 [None, 256]\n",
      "4 BN layer 1 [None, 256]\n",
      "5 En_mu [None, 16]\n",
      "6 En_sigma [None, 16]\n",
      "7 z [None, 16]\n",
      "8 FC layer 1 [None, 256]\n",
      "9 BN layer 1 [None, 256]\n",
      "10 FC layer 0 [None, 512]\n",
      "11 BN layer 0 [None, 512]\n",
      "12 Output layer [None, 784]\n"
     ]
    }
   ],
   "source": [
    "net = cvae(cf)\n",
    "net.cvae_build()\n",
    "# print the net structure\n",
    "net.cvae_print()"
   ]
  },
  {
   "cell_type": "code",
   "execution_count": 9,
   "metadata": {},
   "outputs": [
    {
     "name": "stdout",
     "output_type": "stream",
     "text": [
      "[2018-05-12: 12:57:28]: Epochs    Trn_loss_recon    Val_loss_recon    Trn_loss_latent    Val_loss_latent\n",
      "[2018-05-12: 12:57:29]:      0         306.65951          83.08424           24.63705            2.67869\n",
      "[2018-05-12: 12:58:06]:   1000          23.97300          22.92955            7.54816            7.67208\n",
      "[2018-05-12: 12:58:42]:   2000          21.82877          21.60120            7.46204            7.57356\n",
      "[2018-05-12: 12:59:19]:   3000          21.52530          20.13616            7.46815            7.53047\n",
      "[2018-05-12: 12:59:56]:   4000          21.32673          20.23856            7.56534            7.51867\n",
      "[2018-05-12: 13:00:33]:   5000          21.08933          20.27871            7.60372            7.64924\n",
      "[2018-05-12: 13:01:09]:   6000          21.00674          19.80265            7.44049            7.43661\n",
      "[2018-05-12: 13:01:46]:   7000          21.10521          20.19068            7.56902            7.65754\n",
      "[2018-05-12: 13:02:23]:   8000          21.67966          19.98444            7.79449            7.46138\n",
      "[2018-05-12: 13:03:00]:   9000          22.05688          20.12561            7.83652            7.49439\n",
      "[2018-05-12: 13:03:36]:  10000          21.44618          19.60670            7.50274            7.43026\n",
      "[2018-05-12: 13:04:13]:  11000          20.83906          19.64572            7.53068            7.50225\n",
      "[2018-05-12: 13:04:50]:  12000          21.16511          19.87212            7.53077            7.48629\n",
      "[2018-05-12: 13:05:27]:  13000          21.09536          19.18151            7.65514            7.28517\n",
      "[2018-05-12: 13:06:03]:  14000          22.52352          19.22277            7.73486            7.43613\n",
      "[2018-05-12: 13:06:40]:  15000          20.84369          20.19397            7.52135            7.40714\n",
      "[2018-05-12: 13:07:17]:  16000          21.57455          20.73548            7.64937            7.64940\n",
      "[2018-05-12: 13:07:54]:  17000          21.42112          20.06363            7.53934            7.48768\n",
      "[2018-05-12: 13:08:30]:  18000          21.43859          19.39577            7.59662            7.41001\n",
      "[2018-05-12: 13:09:07]:  19000          21.91132          19.95732            7.66943            7.62828\n",
      "[2018-05-12: 13:09:44]:  20000          21.70843          19.70711            7.70822            7.41817\n",
      "[2018-05-12: 13:10:21]:  21000          21.59289          19.52484            7.71241            7.57215\n",
      "[2018-05-12: 13:10:57]:  22000          21.41963          20.13228            7.57409            7.61620\n",
      "[2018-05-12: 13:11:34]:  23000          21.07284          19.73716            7.58472            7.57514\n",
      "[2018-05-12: 13:12:11]:  24000          20.99414          19.74704            7.56421            7.50148\n",
      "[2018-05-12: 13:12:48]:  25000          21.19072          20.24329            7.55368            7.55872\n",
      "[2018-05-12: 13:13:24]:  26000          20.95647          19.83305            7.60009            7.47575\n",
      "[2018-05-12: 13:14:01]:  27000          20.97688          19.88424            7.53907            7.50667\n",
      "[2018-05-12: 13:14:38]:  28000          21.19467          19.86995            7.62918            7.45341\n",
      "[2018-05-12: 13:15:15]:  29000          21.47057          19.59644            7.55697            7.47382\n",
      "[2018-05-12: 13:15:52]:  30000          21.10747          20.24174            7.59806            7.43848\n",
      "[2018-05-12: 13:16:28]:  31000          21.55270          19.88360            7.61898            7.55445\n",
      "[2018-05-12: 13:17:05]:  32000          22.00118          19.93040            7.72437            7.44217\n",
      "[2018-05-12: 13:17:42]:  33000          21.88575          19.92264            7.76338            7.51813\n",
      "[2018-05-12: 13:18:19]:  34000          21.23238          19.54667            7.64331            7.53057\n",
      "[2018-05-12: 13:18:55]:  35000          21.60959          20.24396            7.72832            7.54661\n",
      "[2018-05-12: 13:19:32]:  36000          21.32753          19.49850            7.60273            7.38553\n",
      "[2018-05-12: 13:20:09]:  37000          22.03190          20.23933            7.63326            7.59032\n",
      "[2018-05-12: 13:20:46]:  38000          21.04092          20.21074            7.57585            7.60140\n",
      "[2018-05-12: 13:21:23]:  39000          21.63172          20.25321            7.79964            7.62046\n",
      "[2018-05-12: 13:21:59]:  40000          20.78502          20.17179            7.59630            7.56391\n",
      "[2018-05-12: 13:22:36]:  41000          20.96984          20.08858            7.53519            7.49156\n",
      "[2018-05-12: 13:23:13]:  42000          20.89518          19.48741            7.57392            7.47606\n",
      "[2018-05-12: 13:23:50]:  43000          21.45007          20.16391            7.73664            7.68414\n",
      "[2018-05-12: 13:24:26]:  44000          21.85635          20.17471            7.64707            7.66335\n",
      "[2018-05-12: 13:25:03]:  45000          21.23906          19.10645            7.71670            7.34210\n",
      "[2018-05-12: 13:25:40]:  46000          21.64231          19.69036            7.82114            7.52925\n",
      "[2018-05-12: 13:26:17]:  47000          21.59493          20.03716            7.68308            7.61975\n",
      "[2018-05-12: 13:26:54]:  48000          21.73685          20.17732            7.94002            7.54685\n",
      "[2018-05-12: 13:27:30]:  49000          21.19121          19.67757            7.67857            7.47384\n"
     ]
    }
   ],
   "source": [
    "# train the net\n",
    "net.cvae_train_mnist(mnist=mnist, train_configs=tr_cf)"
   ]
  },
  {
   "cell_type": "markdown",
   "metadata": {},
   "source": [
    "### Test the net"
   ]
  },
  {
   "cell_type": "code",
   "execution_count": 10,
   "metadata": {
    "collapsed": true
   },
   "outputs": [],
   "source": [
    "n_examples = 10\n",
    "img_test, img_labels = mnist.test.next_batch(n_examples)"
   ]
  },
  {
   "cell_type": "code",
   "execution_count": 11,
   "metadata": {},
   "outputs": [],
   "source": [
    "img_est = net.sess.run(\n",
    "    net.outputs_de, \n",
    "    feed_dict={net.inputs: img_test, \n",
    "               net.outputs: img_test,\n",
    "               net.conditions: img_labels,\n",
    "               net.is_training: False,\n",
    "               net.keep_prob: 0.5\n",
    "               })"
   ]
  },
  {
   "cell_type": "code",
   "execution_count": 12,
   "metadata": {},
   "outputs": [
    {
     "name": "stderr",
     "output_type": "stream",
     "text": [
      "/home/mzx/.local/lib/python3.5/site-packages/matplotlib/figure.py:459: UserWarning: matplotlib is currently using a non-GUI backend, so cannot show the figure\n",
      "  \"matplotlib is currently using a non-GUI backend, \"\n"
     ]
    },
    {
     "data": {
      "image/png": "[encoded data removed]",
      "text/plain": [
       "<Figure size 720x144 with 20 Axes>"
      ]
     },
     "metadata": {},
     "output_type": "display_data"
    }
   ],
   "source": [
    "import numpy as np\n",
    "fig, axs = plt.subplots(2, n_examples, figsize=(n_examples, 2))\n",
    "for example_i in range(n_examples):\n",
    "    # original\n",
    "    axs[0][example_i].imshow(np.reshape(img_test[example_i, :], (28, 28)), cmap='gray')\n",
    "    axs[0][example_i].axis('off')\n",
    "    # reconstructed\n",
    "    axs[1][example_i].imshow(np.reshape(img_est[example_i, :], (28, 28)), cmap='gray')\n",
    "    axs[1][example_i].axis('off')\n",
    "\n",
    "fig.show()\n",
    "plt.draw()"
   ]
  },
  {
   "cell_type": "markdown",
   "metadata": {
    "collapsed": true
   },
   "source": [
    "### Save the net"
   ]
  },
  {
   "cell_type": "code",
   "execution_count": 13,
   "metadata": {
    "collapsed": true
   },
   "outputs": [],
   "source": [
    "import os\n",
    "foldname = \"./cvae_mnist\"\n",
    "name = \"cvae.pkl\"\n",
    "netname = \"model_cvae.ckpt\"\n",
    "namepath = os.path.join(foldname, name)\n",
    "netpath = os.path.join(foldname, netname)\n",
    "savedict = {'netpath': netpath}\n",
    "if os.path.exists(foldname):\n",
    "    os.system(\"rm -r %s\" % (foldname))\n",
    "os.mkdir(foldname)\n",
    "utils.save_net(sess=net.sess,\n",
    "               namepath=namepath,\n",
    "               netpath=netpath,\n",
    "               savedict=savedict)"
   ]
  }
 ],
 "metadata": {
  "kernelspec": {
   "display_name": "Python 3",
   "language": "python",
   "name": "python3"
  },
  "language_info": {
   "codemirror_mode": {
    "name": "ipython",
    "version": 3
   },
   "file_extension": ".py",
   "mimetype": "text/x-python",
   "name": "python",
   "nbconvert_exporter": "python",
   "pygments_lexer": "ipython3",
   "version": "3.5.3"
  }
 },
 "nbformat": 4,
 "nbformat_minor": 2
}
